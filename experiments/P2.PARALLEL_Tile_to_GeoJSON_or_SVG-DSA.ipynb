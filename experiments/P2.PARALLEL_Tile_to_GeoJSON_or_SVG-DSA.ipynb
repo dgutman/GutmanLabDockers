{
 "cells": [
  {
   "cell_type": "code",
   "execution_count": 1,
   "metadata": {},
   "outputs": [],
   "source": [
    "from IPython.display import Image\n",
    "from PIL import Image as PIL_Image\n",
    "import image_processing_aug2016 as ip\n",
    "import cv2,os\n",
    "import glob\n",
    "reload(ip)\n",
    "import json"
   ]
  },
  {
   "cell_type": "code",
   "execution_count": 12,
   "metadata": {},
   "outputs": [],
   "source": [
    "# ipcluster start\n",
    "#from IPython.parallel import Client\n",
    "from ipyparallel import Client\n",
    "rc = Client()\n",
    "dview = rc[:]\n",
    "dview.block=False"
   ]
  },
  {
   "cell_type": "code",
   "execution_count": null,
   "metadata": {},
   "outputs": [],
   "source": []
  },
  {
   "cell_type": "code",
   "execution_count": 13,
   "metadata": {},
   "outputs": [
    {
     "name": "stdout",
     "output_type": "stream",
     "text": [
      "/Users/cdeepakroy/work/kitware/emory/dermcli/experiments\r\n"
     ]
    },
    {
     "data": {
      "text/plain": [
       "\u001b[0;31mOut[0:5]: \u001b[0m'4.0.0'"
      ]
     },
     "metadata": {
      "after": [],
      "completed": "2019-03-18T19:30:21.335031",
      "data": {},
      "engine_id": 0,
      "engine_uuid": "97c0aa65-a1456c2cf6ad4b625ecd68d8",
      "error": null,
      "execute_input": "cv2.__version__",
      "execute_result": {
       "data": {
        "text/plain": "'4.0.0'"
       },
       "execution_count": 5,
       "metadata": {}
      },
      "follow": [],
      "msg_id": "25cfa657-9f51784a4fc9e2d0d7b14503",
      "outputs": [],
      "received": "2019-03-18T19:30:21.341638",
      "started": "2019-03-18T19:30:21.310535",
      "status": "ok",
      "stderr": "",
      "stdout": "",
      "submitted": "2019-03-18T19:30:21.305710"
     },
     "output_type": "display_data"
    },
    {
     "data": {
      "text/plain": [
       "\u001b[0;31mOut[1:5]: \u001b[0m'4.0.0'"
      ]
     },
     "metadata": {
      "after": [],
      "completed": "2019-03-18T19:30:21.349867",
      "data": {},
      "engine_id": 1,
      "engine_uuid": "b2e7a16e-cbfd2078cca3aa506a4c6976",
      "error": null,
      "execute_input": "cv2.__version__",
      "execute_result": {
       "data": {
        "text/plain": "'4.0.0'"
       },
       "execution_count": 5,
       "metadata": {}
      },
      "follow": [],
      "msg_id": "e262c778-bfc51ad6fa47ac79dbc0d179",
      "outputs": [],
      "received": "2019-03-18T19:30:21.356445",
      "started": "2019-03-18T19:30:21.319441",
      "status": "ok",
      "stderr": "",
      "stdout": "",
      "submitted": "2019-03-18T19:30:21.305989"
     },
     "output_type": "display_data"
    },
    {
     "data": {
      "text/plain": [
       "\u001b[0;31mOut[2:5]: \u001b[0m'4.0.0'"
      ]
     },
     "metadata": {
      "after": [],
      "completed": "2019-03-18T19:30:21.343074",
      "data": {},
      "engine_id": 2,
      "engine_uuid": "2770395b-0228f47675c7b251442827db",
      "error": null,
      "execute_input": "cv2.__version__",
      "execute_result": {
       "data": {
        "text/plain": "'4.0.0'"
       },
       "execution_count": 5,
       "metadata": {}
      },
      "follow": [],
      "msg_id": "1fe26ee3-967521df3c59c5b3f79d7a21",
      "outputs": [],
      "received": "2019-03-18T19:30:21.350186",
      "started": "2019-03-18T19:30:21.311321",
      "status": "ok",
      "stderr": "",
      "stdout": "",
      "submitted": "2019-03-18T19:30:21.306210"
     },
     "output_type": "display_data"
    },
    {
     "data": {
      "text/plain": [
       "\u001b[0;31mOut[3:5]: \u001b[0m'4.0.0'"
      ]
     },
     "metadata": {
      "after": [],
      "completed": "2019-03-18T19:30:21.352324",
      "data": {},
      "engine_id": 3,
      "engine_uuid": "03f05ca5-b8885bfaf25cfd90e9841ee9",
      "error": null,
      "execute_input": "cv2.__version__",
      "execute_result": {
       "data": {
        "text/plain": "'4.0.0'"
       },
       "execution_count": 5,
       "metadata": {}
      },
      "follow": [],
      "msg_id": "d53071f2-5967f3eed511840eb394eec9",
      "outputs": [],
      "received": "2019-03-18T19:30:21.357642",
      "started": "2019-03-18T19:30:21.331015",
      "status": "ok",
      "stderr": "",
      "stdout": "",
      "submitted": "2019-03-18T19:30:21.306400"
     },
     "output_type": "display_data"
    }
   ],
   "source": [
    "%px import geojson, numpy as np, os\n",
    "%px import cv2\n",
    "%px import json\n",
    "!pwd\n",
    "%px import image_processing_aug2016 as ip\n",
    "%px cv2.__version__"
   ]
  },
  {
   "cell_type": "code",
   "execution_count": 14,
   "metadata": {},
   "outputs": [
    {
     "data": {
      "text/plain": [
       "[0, 1, 2, 3]"
      ]
     },
     "execution_count": 14,
     "metadata": {},
     "output_type": "execute_result"
    }
   ],
   "source": [
    "dview.targets"
   ]
  },
  {
   "cell_type": "code",
   "execution_count": 2,
   "metadata": {},
   "outputs": [
    {
     "name": "stdout",
     "output_type": "stream",
     "text": [
      "1\n",
      "../sample_data/ISIC_0000506_superpixels_v3.0.png\n"
     ]
    }
   ],
   "source": [
    "spx_ImageList = glob.glob('../sample_data/*super*.png')\n",
    "### /mnt/ISIC_MIRROR_IMGSET/v2/*/*/*super*.png')\n",
    "print len(spx_ImageList)\n",
    "print(spx_ImageList[0])"
   ]
  },
  {
   "cell_type": "code",
   "execution_count": 3,
   "metadata": {},
   "outputs": [
    {
     "name": "stdout",
     "output_type": "stream",
     "text": [
      "../sample_data/ISIC_0000506_superpixels_v3.0.png\n"
     ]
    }
   ],
   "source": [
    "for s in spx_ImageList:\n",
    "    print s\n",
    "    break"
   ]
  },
  {
   "cell_type": "code",
   "execution_count": 4,
   "metadata": {},
   "outputs": [],
   "source": [
    "import numpy as np, cv2, geojson\n",
    "### I have to switch coordinate systems, which is why I need to multiple by -1\n",
    "def contourToSVGString(contour):\n",
    "        \"\"\"\n",
    "        convert an OpenCV contour to a geojson-compatible representation\n",
    "        \"\"\"\n",
    "        t_string = []\n",
    "        for pt in contour:\n",
    "            px = np.round(pt[0] )\n",
    "            py =  np.round(pt[1] )  ## Appears Y is inverted/negative in the cntours\n",
    "            t_string.append((float(px), float(py)))\n",
    "        return t_string\n",
    "\n",
    "# @dview.parallel(block=False)\n",
    "def TileMap_to_SVG( tileImg,debug=False ):\n",
    "    \"\"\"\n",
    "    This function takes an input image as a PNG File and produces a pointlist of the\n",
    "    outer most contour for each label map, and produces a format I can read in as SVG for visualization\"\"\"\n",
    "    # Load an color image in grayscale; currently not working with > 256 superpixels\n",
    "    img = cv2.imread(tileImg)\n",
    "\n",
    "    img_ch0 = img[:,:,0]\n",
    "    img_ch1 = img[:,:,1]\n",
    "    img_ch2 = img[:,:,2]\n",
    "    \n",
    "    img_minor = img_ch2  ## Need to double check this\n",
    "    img_major = img_ch1   ## Also check this\n",
    "\n",
    "    img_gray = 256 * img_major.astype(np.int) + img_minor.astype(np.int) +1 ##Allows > 256 Channels\n",
    "    ### Probably should add a 1 to get rid of the 0th channel.. this is a TO DO\n",
    "    \n",
    "    unique_labels = np.unique(img_gray)\n",
    "    if debug: print len(unique_labels)\n",
    "    \n",
    "    all_cnts = []\n",
    "    cntdict = {}\n",
    "    return_data = []\n",
    "    ## So a given label/contour can contain one or more features...\n",
    "    \n",
    "    ## Now iterate through each label, mask the input image with the label, and find appropriate contours\n",
    "    for label in unique_labels:\n",
    "        working_img = img_gray.copy()\n",
    "        working_img[working_img != label] = 0\n",
    "        ### this breaks when label == 0\n",
    "        \n",
    "        ## can pass cv2.RETR_CCCOMP or RETR_EXTERNAL\n",
    "        _,contours, hierarchy = cv2.findContours(working_img.astype(np.uint8), cv2.RETR_EXTERNAL, cv2.CHAIN_APPROX_SIMPLE) ## can also do CHAIN_APPROX_TC89_L1\n",
    "        \n",
    "        if len(contours) > 0:\n",
    "            if debug: print \"Found %d contours for label %s\" % ( len(contours), label)\n",
    "            for c in contours:    \n",
    "                try:\n",
    "                    outerpoly = ip.contourToSVGString( np.squeeze( c ) )            \n",
    "                    all_cnts.append( { 'geometry': { 'type': 'polygon', 'coordinates': outerpoly }, 'properties' : { 'labelindex': str(label-1)    } } )\n",
    "                except:\n",
    "                    print \"SOMETHING WRONG IN THIS IMAGE CONTOUR... 2 few points??\",c\n",
    "        else:\n",
    "            if debug: print len(contours),\"were found for label\",label\n",
    "    for c in all_cnts:\n",
    "        return_data.append(c)\n",
    "        \n",
    "    svg_output_file = tileImg+'.svg.json'   \n",
    "    superpixel_contours = return_data\n",
    "    \n",
    "    if not os.path.isfile(svg_output_file):\n",
    "        with  open(svg_output_file,'w') as outfile:\n",
    "            json.dump(superpixel_contours, outfile)\n",
    "                 \n",
    "    return len(return_data)"
   ]
  },
  {
   "cell_type": "code",
   "execution_count": 5,
   "metadata": {},
   "outputs": [],
   "source": [
    "## iterate through all the superpixel PNG images and see if I have a svg.json match\n",
    "needsSVGJson = []\n",
    "for spx in spx_ImageList:\n",
    "    svg_output_file = spx+'.svg.json'\n",
    "    if not os.path.isfile(svg_output_file):\n",
    "        ## Make the sure the spx is not the same size as the base image\n",
    "        needsSVGJson.append(spx)\n",
    "        #base_image_file = spx.replace('_superpixels_v3.0.png','.jpg')\n",
    "        #if os.path.isfile(base_image_file):\n",
    "#             if os.path.getsize(base_image_file) ==  os.path.getsize(spx):\n",
    "#                 print os.path.getsize(base_image_file), os.path.getsize(spx)\n",
    "#                 print \"Probably need to delete this...\"\n",
    "        #else:\n",
    "                \n",
    "            "
   ]
  },
  {
   "cell_type": "code",
   "execution_count": 6,
   "metadata": {},
   "outputs": [
    {
     "name": "stdout",
     "output_type": "stream",
     "text": [
      "1\n"
     ]
    },
    {
     "ename": "AttributeError",
     "evalue": "'function' object has no attribute 'map'",
     "output_type": "error",
     "traceback": [
      "\u001b[0;31m---------------------------------------------------------------------------\u001b[0m",
      "\u001b[0;31mAttributeError\u001b[0m                            Traceback (most recent call last)",
      "\u001b[0;32m<ipython-input-6-4c63a6535ad3>\u001b[0m in \u001b[0;36m<module>\u001b[0;34m()\u001b[0m\n\u001b[1;32m      1\u001b[0m \u001b[0;32mprint\u001b[0m \u001b[0mlen\u001b[0m\u001b[0;34m(\u001b[0m\u001b[0mneedsSVGJson\u001b[0m\u001b[0;34m)\u001b[0m\u001b[0;34m\u001b[0m\u001b[0m\n\u001b[1;32m      2\u001b[0m \u001b[0;34m\u001b[0m\u001b[0m\n\u001b[0;32m----> 3\u001b[0;31m \u001b[0mar\u001b[0m \u001b[0;34m=\u001b[0m \u001b[0mTileMap_to_SVG\u001b[0m\u001b[0;34m.\u001b[0m\u001b[0mmap\u001b[0m\u001b[0;34m(\u001b[0m\u001b[0mneedsSVGJson\u001b[0m\u001b[0;34m)\u001b[0m\u001b[0;34m\u001b[0m\u001b[0m\n\u001b[0m",
      "\u001b[0;31mAttributeError\u001b[0m: 'function' object has no attribute 'map'"
     ]
    }
   ],
   "source": [
    "print len(needsSVGJson)\n",
    "\n",
    "ar = TileMap_to_SVG.map(needsSVGJson)"
   ]
  },
  {
   "cell_type": "code",
   "execution_count": 24,
   "metadata": {},
   "outputs": [
    {
     "data": {
      "text/plain": [
       "True"
      ]
     },
     "execution_count": 24,
     "metadata": {},
     "output_type": "execute_result"
    }
   ],
   "source": [
    "ar.done()"
   ]
  },
  {
   "cell_type": "code",
   "execution_count": 7,
   "metadata": {},
   "outputs": [
    {
     "ename": "ValueError",
     "evalue": "need more than 2 values to unpack",
     "output_type": "error",
     "traceback": [
      "\u001b[0;31m---------------------------------------------------------------------------\u001b[0m",
      "\u001b[0;31mValueError\u001b[0m                                Traceback (most recent call last)",
      "\u001b[0;32m<ipython-input-7-e43b8c6d8bdd>\u001b[0m in \u001b[0;36m<module>\u001b[0;34m()\u001b[0m\n\u001b[0;32m----> 1\u001b[0;31m \u001b[0mres\u001b[0m \u001b[0;34m=\u001b[0m \u001b[0mTileMap_to_SVG\u001b[0m\u001b[0;34m(\u001b[0m\u001b[0mspx_ImageList\u001b[0m\u001b[0;34m[\u001b[0m\u001b[0;36m0\u001b[0m\u001b[0;34m]\u001b[0m\u001b[0;34m)\u001b[0m\u001b[0;34m\u001b[0m\u001b[0m\n\u001b[0m",
      "\u001b[0;32m<ipython-input-4-efd08e10ab9b>\u001b[0m in \u001b[0;36mTileMap_to_SVG\u001b[0;34m(tileImg, debug)\u001b[0m\n\u001b[1;32m     45\u001b[0m \u001b[0;34m\u001b[0m\u001b[0m\n\u001b[1;32m     46\u001b[0m         \u001b[0;31m## can pass cv2.RETR_CCCOMP or RETR_EXTERNAL\u001b[0m\u001b[0;34m\u001b[0m\u001b[0;34m\u001b[0m\u001b[0m\n\u001b[0;32m---> 47\u001b[0;31m         \u001b[0m_\u001b[0m\u001b[0;34m,\u001b[0m\u001b[0mcontours\u001b[0m\u001b[0;34m,\u001b[0m \u001b[0mhierarchy\u001b[0m \u001b[0;34m=\u001b[0m \u001b[0mcv2\u001b[0m\u001b[0;34m.\u001b[0m\u001b[0mfindContours\u001b[0m\u001b[0;34m(\u001b[0m\u001b[0mworking_img\u001b[0m\u001b[0;34m.\u001b[0m\u001b[0mastype\u001b[0m\u001b[0;34m(\u001b[0m\u001b[0mnp\u001b[0m\u001b[0;34m.\u001b[0m\u001b[0muint8\u001b[0m\u001b[0;34m)\u001b[0m\u001b[0;34m,\u001b[0m \u001b[0mcv2\u001b[0m\u001b[0;34m.\u001b[0m\u001b[0mRETR_EXTERNAL\u001b[0m\u001b[0;34m,\u001b[0m \u001b[0mcv2\u001b[0m\u001b[0;34m.\u001b[0m\u001b[0mCHAIN_APPROX_SIMPLE\u001b[0m\u001b[0;34m)\u001b[0m \u001b[0;31m## can also do CHAIN_APPROX_TC89_L1\u001b[0m\u001b[0;34m\u001b[0m\u001b[0m\n\u001b[0m\u001b[1;32m     48\u001b[0m \u001b[0;34m\u001b[0m\u001b[0m\n\u001b[1;32m     49\u001b[0m         \u001b[0;32mif\u001b[0m \u001b[0mlen\u001b[0m\u001b[0;34m(\u001b[0m\u001b[0mcontours\u001b[0m\u001b[0;34m)\u001b[0m \u001b[0;34m>\u001b[0m \u001b[0;36m0\u001b[0m\u001b[0;34m:\u001b[0m\u001b[0;34m\u001b[0m\u001b[0m\n",
      "\u001b[0;31mValueError\u001b[0m: need more than 2 values to unpack"
     ]
    }
   ],
   "source": [
    "res = TileMap_to_SVG(spx_ImageList[0])"
   ]
  },
  {
   "cell_type": "code",
   "execution_count": null,
   "metadata": {
    "collapsed": true
   },
   "outputs": [],
   "source": [
    "# tileImg = needsSVGJson[1]\n",
    "# print tileImg\n",
    "# debug=True\n",
    "# \"\"\"\n",
    "# This function takes an input image as a PNG File and produces a pointlist of the\n",
    "# outer most contour for each label map, and produces a format I can read in as SVG for visualization\"\"\"\n",
    "# # Load an color image in grayscale; currently not working with > 256 superpixels\n",
    "# img = cv2.imread(tileImg)\n",
    "\n",
    "# img_ch0 = img[:,:,0]\n",
    "# img_ch1 = img[:,:,1]\n",
    "# img_ch2 = img[:,:,2]\n",
    "\n",
    "# img_minor = img_ch2  ## Need to double check this\n",
    "# img_major = img_ch1   ## Also check this\n",
    "\n",
    "# img_gray = 256 * img_major.astype(np.int) + img_minor.astype(np.int) +1 ##Allows > 256 Channels\n",
    "# ### Probably should add a 1 to get rid of the 0th channel.. this is a TO DO\n",
    "\n",
    "# unique_labels = np.unique(img_gray)\n",
    "# if debug: print len(unique_labels)\n",
    "\n",
    "# all_cnts = []\n",
    "# cntdict = {}\n",
    "# return_data = []\n",
    "# ## So a given label/contour can contain one or more features...\n",
    "\n",
    "# ## Now iterate through each label, mask the input image with the label, and find appropriate contours\n",
    "# for label in unique_labels:\n",
    "#     working_img = img_gray.copy()\n",
    "#     working_img[working_img != label] = 0\n",
    "#     ### this breaks when label == 0\n",
    "\n",
    "#     ## can pass cv2.RETR_CCCOMP or RETR_EXTERNAL\n",
    "#     _,contours, hierarchy = cv2.findContours(working_img.astype(np.uint8), cv2.RETR_EXTERNAL, cv2.CHAIN_APPROX_SIMPLE) ## can also do CHAIN_APPROX_TC89_L1\n",
    "\n",
    "#     if len(contours) > 0:\n",
    "#         if debug: print \"Found %d contours for label %s\" % ( len(contours), label)\n",
    "#         for c in contours:    \n",
    "#             try:\n",
    "#                 outerpoly = ip.contourToSVGString( np.squeeze( c ) )            \n",
    "#                 all_cnts.append( { 'geometry': { 'type': 'polygon', 'coordinates': outerpoly }, 'properties' : { 'labelindex': str(label-1)    } } )\n",
    "#             except:\n",
    "#                 print \"SOMETHING WRONG IN THIS IMAGE CONTOUR... 2 few points??\",len(c)\n",
    "#     else:\n",
    "#         if debug: print len(contours),\"were found for label\",label\n",
    "# for c in all_cnts:\n",
    "# #     return_data.append(geojson.dumps(c))\n",
    "#     return_data.append(c)\n",
    "\n",
    "# svg_output_file = tileImg+'.svg.json'   \n",
    "# superpixel_contours = return_data\n",
    "\n",
    "# if not os.path.isfile(svg_output_file):\n",
    "#     with  open(svg_output_file,'w') as outfile:\n",
    "#         json.dump(superpixel_contours, outfile)\n",
    "\n",
    "# return len(return_data)"
   ]
  },
  {
   "cell_type": "code",
   "execution_count": null,
   "metadata": {
    "collapsed": true
   },
   "outputs": [],
   "source": [
    "# _,contours, hierarchy = cv2.findContours(working_img.astype(np.uint8), cv2.RETR_EXTERNAL, cv2.CHAIN_APPROX_SIMPLE) ## can also do CHAIN_APPROX_TC89_L1"
   ]
  },
  {
   "cell_type": "code",
   "execution_count": null,
   "metadata": {
    "collapsed": true
   },
   "outputs": [],
   "source": []
  },
  {
   "cell_type": "code",
   "execution_count": null,
   "metadata": {
    "collapsed": true
   },
   "outputs": [],
   "source": []
  },
  {
   "cell_type": "code",
   "execution_count": null,
   "metadata": {
    "collapsed": true
   },
   "outputs": [],
   "source": []
  },
  {
   "cell_type": "code",
   "execution_count": null,
   "metadata": {
    "collapsed": true
   },
   "outputs": [],
   "source": []
  },
  {
   "cell_type": "code",
   "execution_count": null,
   "metadata": {
    "collapsed": true
   },
   "outputs": [],
   "source": []
  }
 ],
 "metadata": {
  "anaconda-cloud": {},
  "kernelspec": {
   "display_name": "Python 2",
   "language": "python",
   "name": "python2"
  },
  "language_info": {
   "codemirror_mode": {
    "name": "ipython",
    "version": 2
   },
   "file_extension": ".py",
   "mimetype": "text/x-python",
   "name": "python",
   "nbconvert_exporter": "python",
   "pygments_lexer": "ipython2",
   "version": "2.7.16"
  }
 },
 "nbformat": 4,
 "nbformat_minor": 1
}
