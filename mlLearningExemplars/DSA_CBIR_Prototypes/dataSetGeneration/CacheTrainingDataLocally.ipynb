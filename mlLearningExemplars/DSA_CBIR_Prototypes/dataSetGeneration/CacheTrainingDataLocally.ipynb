{
 "cells": [
  {
   "cell_type": "code",
   "execution_count": 1,
   "metadata": {
    "collapsed": false
   },
   "outputs": [
    {
     "name": "stdout",
     "output_type": "stream",
     "text": [
      "Login or email: admin\n",
      "Password for admin: ········\n"
     ]
    }
   ],
   "source": [
    "## I want all the training data to be centrally stored on Girder but we need local copies for testing\n",
    "import os,sys\n",
    "import girder_client\n",
    "from pprint import pprint\n",
    "import CBIR_Helpers as CBIR\n",
    "\n",
    "\n",
    "        \n",
    "DSA_URL = \"http://candygram.neurology.emory.edu:8080/api/v1/\"\n",
    "gc = girder_client.GirderClient(apiUrl=DSA_URL)\n",
    "gc.authenticate(interactive=True)"
   ]
  },
  {
   "cell_type": "code",
   "execution_count": null,
   "metadata": {
    "collapsed": true
   },
   "outputs": [],
   "source": []
  },
  {
   "cell_type": "code",
   "execution_count": 24,
   "metadata": {},
   "outputs": [
    {
     "name": "stdout",
     "output_type": "stream",
     "text": [
      "TestingData\n",
      "TrainingData\n",
      "let's sync the Training DATA!!\n",
      "250 files found for  BRCA_Thumbs\n",
      "250 files found for  GBM_Thumbnails\n"
     ]
    }
   ],
   "source": [
    "reload(CBIR)\n",
    "### Will now look through a DataSetList and download the files\n",
    "###https://isic-archive.com:443/api/v1/image?limit=50&offset=0&sort=lowerName&sortdir=1&datasetId=54b6e869bae4785ee2be8652\n",
    "cacheBaseDir = os.path.join( os.getcwd(),'localCache/')\n",
    "if not os.path.isdir(cacheBaseDir):\n",
    "    os.makedirs(cacheBaseDir)\n",
    "\n",
    "folderToSync = '59d1123a92ca9a001611da56'    \n",
    "    \n",
    "projName = \"Exp1_BRCA_vs_GBM\"\n",
    "# cacheBaseDir = os.path.join( cacheBaseDir, projName)    \n",
    "\n",
    "thumbWidth = 224\n",
    "thumbHeight=224\n",
    "fillColor=\"white\"\n",
    "edgeCrop = True\n",
    "\n",
    "for fts in gc.listFolder(folderToSync):\n",
    "    print fts['name']\n",
    "    if 'Training' in fts['name']:\n",
    "        print \"let's sync the Training DATA!!\"\n",
    "        itemsInFolder = gc.listFolder(fts['_id'])\n",
    "        for iif in itemsInFolder:\n",
    "            ### These folders are the ones that have training data..\n",
    "            imgSet = list(gc.listItem(iif['_id']))\n",
    "            print len(imgSet),\"files found for \",iif['name']\n",
    "\n",
    "            for img in imgSet:\n",
    "                imgTargetDir = os.path.join(cacheBaseDir,projName,'TRAINING',iif['name'])\n",
    "                if not os.path.isdir(imgTargetDir):\n",
    "                    os.makedirs(imgTargetDir)\n",
    "\n",
    "                imgLocalFileName = os.path.join(imgTargetDir,img['name']+'.macrothumb.jpg')  #may want to check the image header..\n",
    "\n",
    "                \n",
    "# #               GET /item/{itemId}/tiles/thumbna \n",
    "#                 print imgFile\n",
    "#                 print '/item/%s/tiles/thumbnail' % img['_id']\n",
    "#                 print imgLocalFileName\n",
    "#                 sys.exit()\n",
    "                if not os.path.isfile(imgLocalFileName):\n",
    "                    imgFile = gc.get('/item/%s/tiles/thumbnail?width=%s&height=%s&fill=white' % \n",
    "                                     (img['_id'],thumbWidth,thumbHeight),jsonResp=False)\n",
    "                    with open(imgLocalFileName,\"wb\") as fpi:\n",
    "                        fpi.write( imgFile.content)\n"
   ]
  },
  {
   "cell_type": "code",
   "execution_count": null,
   "metadata": {
    "collapsed": true
   },
   "outputs": [],
   "source": [
    "\n",
    "\n",
    "\n",
    "# totalProcessed = 0\n",
    "# batchSize = 500\n",
    "\n",
    "# #     \"def getImageFile(image_id):\\n\",\n",
    "# #     \"    \\\"\\\"\\\" Get the original JPEG file for an image. \\\"\\\"\\\"\\n\",\n",
    "# #     \"    return apiGet('image/%s/download' % image_id, as_json=False)\\n\",\n",
    "\n",
    "# for dsl in DataSetList:\n",
    "#     print \"Checking cache for\",dsl['name']\n",
    "    \n",
    "#     curBatchProcessed = 0\n",
    "#     dataSetImageList = gc.get( (\"image?limit=%d&offset=%d&datasetId=%s\" % ( batchSize, batchSize*curBatchProcessed, dsl['_id'])))\n",
    "\n",
    "#     while dataSetImageList:\n",
    "#         for img in dataSetImageList:\n",
    "#             totalProcessed +=1\n",
    "#             #print img['name']\n",
    "#             output = \"Total Processed: %d: Processing %d out of %d; File %s\" % (totalProcessed, curBatchProcessed, batchSize, img['name'])\n",
    "#             LinePrinter(output)\n",
    "#             imgTargetDir = os.path.join(cacheBaseDir,dsl['name'],img['name'])\n",
    "#             if not os.path.isdir(imgTargetDir):\n",
    "#                 os.makedirs(imgTargetDir)\n",
    "\n",
    "#             imgLocalFileName = os.path.join(imgTargetDir,img['name']+'.jpg')  #may want to check the image header..\n",
    "#             if not os.path.isfile(imgLocalFileName):\n",
    "#                 imgFile = gc.get('image/%s/download' % img['_id'],jsonResp=False)\n",
    "#                 with open(imgLocalFileName,\"wb\") as fpi:\n",
    "#                     fpi.write( imgFile.content)\n",
    "\n",
    "#             spxImgLocalFileName = os.path.join(imgTargetDir,img['name']+'_superpixels_v3.0.png')\n",
    "#             if not os.path.isfile(spxImgLocalFileName):\n",
    "#                 spxImgFile =  gc.get('image/%s/download' % img['_id'],jsonResp=False)\n",
    "#                 with open(spxImgLocalFileName,\"wb\") as fpi:\n",
    "#                     fpi.write( spxImgFile.content)\n",
    "\n",
    "#         curBatchProcessed+=1 \n",
    "#         getStr = \"image?limit=%d&offset=%d&datasetId=%s\" % ( batchSize, (int(batchSize)*int(curBatchProcessed)), dsl['_id'])\n",
    "#         dataSetImageList = gc.get(getStr )\n",
    "\n",
    "#     print            "
   ]
  }
 ],
 "metadata": {
  "anaconda-cloud": {},
  "kernelspec": {
   "display_name": "Python [default]",
   "language": "python",
   "name": "python2"
  },
  "language_info": {
   "codemirror_mode": {
    "name": "ipython",
    "version": 2
   },
   "file_extension": ".py",
   "mimetype": "text/x-python",
   "name": "python",
   "nbconvert_exporter": "python",
   "pygments_lexer": "ipython2",
   "version": "2.7.12"
  }
 },
 "nbformat": 4,
 "nbformat_minor": 2
}
