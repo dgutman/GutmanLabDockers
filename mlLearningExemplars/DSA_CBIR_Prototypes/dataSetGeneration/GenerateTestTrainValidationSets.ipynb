{
 "cells": [
  {
   "cell_type": "code",
   "execution_count": 1,
   "metadata": {
    "collapsed": true
   },
   "outputs": [],
   "source": [
    "import os, sys,shutil, random,math,glob\n",
    "\n",
    "thumbBaseDir = '/home/dagutman/Documents/tcga_imgs/macro_thumbnails/'\n",
    "traingTestingVal_OutputDir = '/home/dagutman/Documents/tcga_imgs/dataSetsForDL/'"
   ]
  },
  {
   "cell_type": "code",
   "execution_count": 9,
   "metadata": {},
   "outputs": [
    {
     "name": "stdout",
     "output_type": "stream",
     "text": [
      "32 cancer subtypes have thumbnail Data\n"
     ]
    }
   ],
   "source": [
    "cancerSubtypes = os.listdir(thumbBaseDir)\n",
    "print len(cancerSubtypes),\"cancer subtypes have thumbnail Data\"\n",
    "\n",
    "cancerDataThumbDict = {}\n",
    "\n",
    "for c in cancerSubtypes:\n",
    "    cancerDataThumbDict[c] = {}\n",
    "    currentThumbRootDir = os.path.join(thumbBaseDir,c)\n",
    "    cancerDataThumbDict[c]['rootDir'] = currentThumbRootDir\n",
    "    \n",
    "    cancerDataThumbDict[c]['jpgSize'] = \"150x150\"\n",
    "    cancerDataThumbDict[c]['jpgThumbList'] = [x for x in os.listdir(currentThumbRootDir) if x.endswith(\".jpg\")]"
   ]
  },
  {
   "cell_type": "code",
   "execution_count": 10,
   "metadata": {},
   "outputs": [
    {
     "name": "stdout",
     "output_type": "stream",
     "text": [
      "esca 156\n",
      "dlbc 51\n",
      "ucs 61\n",
      "thym 121\n",
      "lusc 504\n",
      "thca 518\n",
      "blca 375\n",
      "ucec 533\n",
      "uvm 80\n",
      "cesc 271\n",
      "sarc 255\n",
      "lihc 365\n",
      "prad 427\n",
      "skcm 459\n",
      "kirc 531\n",
      "kich 121\n",
      "luad 510\n",
      "tgct 154\n",
      "read 169\n",
      "lgg 532\n",
      "stad 459\n",
      "meso 80\n",
      "ov 106\n",
      "pcpg 0\n",
      "acc 56\n",
      "gbm 381\n",
      "chol 39\n",
      "hnsc 480\n",
      "paad 195\n",
      "brca 1088\n",
      "coad 475\n",
      "kirp 287\n"
     ]
    }
   ],
   "source": [
    "for c in cancerDataThumbDict:\n",
    "    print c, len(cancerDataThumbDict[c]['jpgThumbList'])\n",
    "    \n",
    "del cancerDataThumbDict['pcpg']"
   ]
  },
  {
   "cell_type": "code",
   "execution_count": 20,
   "metadata": {},
   "outputs": [],
   "source": [
    "## CREATE TESTING VALIDATION AND TRAINING SETS AND COPY OVER THE IMAGES TO THESE DIRECTORIES\n",
    "trainProportion = 0.75\n",
    "testingProportion = 0.2\n",
    "validationProportion =0.05\n",
    "from random import shuffle\n",
    "\n",
    "traingTestingVal_OutputDir\n",
    "for c in cancerDataThumbDict:\n",
    "    #print cancerDataThumbDict[c]\n",
    "    curCancerThumbList = cancerDataThumbDict[c]['jpgThumbList']\n",
    "    \n",
    "    \n",
    "    \n",
    "    curCancerThumbList = shuffle(curCancerThumbList)\n",
    "\n",
    "    \n",
    "    imgsInCohort = len(cancerDataThumbDict[c]['jpgThumbList'])\n",
    "    for idx,img in enumerate(cancerDataThumbDict[c]['jpgThumbList']):\n",
    "        \n",
    "        ### Create Training Set\n",
    "        trainingOutputDir = os.path.join(traingTestingVal_OutputDir,\"train\",c)\n",
    "        testingOutputDir = os.path.join(traingTestingVal_OutputDir,\"test\",c)\n",
    "        validationOutputDir = os.path.join(traingTestingVal_OutputDir,\"val\",c)\n",
    "        \n",
    "        if not os.path.isdir(trainingOutputDir):\n",
    "            os.makedirs(trainingOutputDir)\n",
    "        if not os.path.isdir(testingOutputDir):\n",
    "            os.makedirs(testingOutputDir)\n",
    "        if not os.path.isdir(validationOutputDir):\n",
    "            os.makedirs(validationOutputDir)\n",
    "        \n",
    "        curProp = idx/float(imgsInCohort)\n",
    "        \n",
    "        if curProp < trainProportion:\n",
    "            shutil.copy( os.path.join(cancerDataThumbDict[c]['rootDir'],img), trainingOutputDir)\n",
    "        elif (curProp >= trainProportion and curProp <= (trainProportion+validationProportion)  ):\n",
    "            shutil.copy( os.path.join(cancerDataThumbDict[c]['rootDir'],img), validationOutputDir)\n",
    "        else:\n",
    "            shutil.copy( os.path.join(cancerDataThumbDict[c]['rootDir'],img), testingOutputDir)"
   ]
  }
 ],
 "metadata": {
  "kernelspec": {
   "display_name": "Python 2",
   "language": "python",
   "name": "python2"
  },
  "language_info": {
   "codemirror_mode": {
    "name": "ipython",
    "version": 2
   },
   "file_extension": ".py",
   "mimetype": "text/x-python",
   "name": "python",
   "nbconvert_exporter": "python",
   "pygments_lexer": "ipython2",
   "version": "2.7.13"
  }
 },
 "nbformat": 4,
 "nbformat_minor": 2
}
