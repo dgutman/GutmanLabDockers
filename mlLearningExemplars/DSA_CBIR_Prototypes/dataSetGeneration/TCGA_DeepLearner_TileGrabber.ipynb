{
 "cells": [
  {
   "cell_type": "code",
   "execution_count": 1,
   "metadata": {
    "collapsed": true
   },
   "outputs": [],
   "source": [
    "import girder_client as gc\n",
    "from pprint import pprint\n",
    "import sys, os\n",
    "from IPython.display import Image\n",
    "API_URL = \"http://candygram.neurology.emory.edu:8080/api/v1\"\n",
    "## DOWNLOADS X=0 TO 100 AND Y=0 30\n",
    "\n",
    "dsaGC = gc.GirderClient(apiUrl=API_URL)\n"
   ]
  },
  {
   "cell_type": "code",
   "execution_count": 2,
   "metadata": {},
   "outputs": [
    {
     "name": "stdout",
     "output_type": "stream",
     "text": [
      "{u'size': 17627563848078, u'updated': u'2017-06-30T20:44:55.655000+00:00', u'publicFlags': [], u'description': None, u'created': u'2017-06-30T20:44:55.655000+00:00', u'public': True, u'_id': u'5956b84792ca9a000dd670c8', u'_modelType': u'collection', u'_accessLevel': 0, u'name': u'TCGA'}\n",
      "{u'size': 21112175894, u'updated': u'2017-07-05T17:14:45.021000+00:00', u'publicFlags': [], u'description': u'This will contain APERIO, PDFs and other Clinical Related TCGA Metadata', u'created': u'2017-07-05T17:14:45.021000+00:00', u'public': True, u'_id': u'595d1e8592ca9a000dd5737d', u'_modelType': u'collection', u'_accessLevel': 0, u'name': u'TCGA_METADATA'}\n"
     ]
    }
   ],
   "source": [
    "## Figure out the ID for the TCGA collection\n",
    "\n",
    "TCGAColID = \"\"\n",
    "\n",
    "for c in dsaGC.listCollection():\n",
    "    if 'TCGA' in c['name']:\n",
    "        print c\n",
    "    ## Note there's more than one collection with the word TCGA in it! Be Careful\n",
    "    if c['name'] == \"TCGA\":\n",
    "        TCGAColID = c['_id']"
   ]
  },
  {
   "cell_type": "code",
   "execution_count": 3,
   "metadata": {
    "collapsed": true
   },
   "outputs": [],
   "source": [
    "from pprint import pprint\n",
    "\n",
    "class LinePrinter():\n",
    "    \"\"\"\n",
    "    Print things to stdout on one line dynamically\n",
    "    \"\"\"\n",
    "    def __init__(self,data):\n",
    "        sys.stdout.write(\"\\r\\x1b[K\"+data.__str__())\n",
    "        sys.stdout.flush()"
   ]
  },
  {
   "cell_type": "code",
   "execution_count": 4,
   "metadata": {
    "collapsed": true
   },
   "outputs": [],
   "source": [
    "##going to use some of the special tcga endpoints to make my life a little easier\n",
    "TCGACohortList = dsaGC.get('/tcga/cohort')\n",
    "\n",
    "cohortData = {}\n",
    "\n",
    "for x in  TCGACohortList['data']:\n",
    "    cohortData[x['lowerName']] = { '_id': x['_id'], 'lowerName': x['lowerName']}\n"
   ]
  },
  {
   "cell_type": "code",
   "execution_count": 15,
   "metadata": {},
   "outputs": [
    {
     "name": "stdout",
     "output_type": "stream",
     "text": [
      "\u001b[KProcessed Cohort 33/33: 32854 slides, and found 10764 slides"
     ]
    }
   ],
   "source": [
    "## get the cases for the cohort\n",
    "\n",
    "dxSlidesFound = 0\n",
    "totalSlidesFound = 0\n",
    "collsProcessed = 0\n",
    "slidesOnDisk = 0\n",
    "cohortsProcessed = 0\n",
    "\n",
    "for cohort,data in cohortData.iteritems():\n",
    "    slideList = dsaGC.get('/tcga/cohort/%s/images?&limit=9000' % data['_id'])\n",
    "    ## I only want to get images that end in DX1 for now\n",
    "#     print \"\\nProcessing cohort %s \" % cohort\n",
    "    cohortsProcessed+=1 \n",
    "    dxSlidesForCohort = []\n",
    "    \n",
    "    for sld in slideList['data']:\n",
    "        totalSlidesFound +=1\n",
    "        \n",
    "        if 'DX1' in sld['tcga']['barcode']:\n",
    "            dxSlidesFound +=1\n",
    "            dxSlidesForCohort.append(sld)\n",
    "        else:\n",
    "            pass\n",
    "        \n",
    "        cohortData[cohort]['dxCaseList'] = dxSlidesForCohort\n",
    "        \n",
    "    ## This returns a list of slides, but also has a ton of properties that can get confusing for non experts\n",
    "    #print len(slideList.data)\n",
    "    LinePrinter( \"Processed Cohort %d/%d: %d slides, and found %d slides\" % (cohortsProcessed, len(cohortData),totalSlidesFound, dxSlidesFound))\n",
    "    \n",
    "#     GET /tcga/cohort/{id}/images\n",
    "# List slide images in a cohort\n"
   ]
  },
  {
   "cell_type": "raw",
   "metadata": {},
   "source": []
  },
  {
   "cell_type": "code",
   "execution_count": 16,
   "metadata": {},
   "outputs": [
    {
     "name": "stdout",
     "output_type": "stream",
     "text": [
      "762\n",
      "\u001b[KYou have processed 5274 files and just downloaded 0Cant find case list??\n",
      "{'lowerName': u'sample images', '_id': u'597a146692ca9a000d39f836'}\n",
      "\u001b[KYou have processed 10885 files and just downloaded 0"
     ]
    }
   ],
   "source": [
    "print len( cohortData['gbm']['dxCaseList'])\n",
    "\n",
    "macroImageRootPath = '/home/dagutman/Documents/tcga_imgs/macro_thumbnails/'\n",
    "\n",
    "\n",
    "imgWidth = 256\n",
    "\n",
    "\n",
    "slidesProcessed = slidesDownloaded = 0\n",
    "\n",
    "\n",
    "for cohort,data in cohortData.iteritems():\n",
    "    try:\n",
    "        slideSet = data['dxCaseList']\n",
    "    except:\n",
    "        print \"Cant find case list??\"\n",
    "        print data\n",
    "        \n",
    "    for sld in slideSet:\n",
    "        slidesProcessed +=1 \n",
    "\n",
    "        ##filename will have the word macro.thumb.width\n",
    "        outputPath = os.path.join(macroImageRootPath,cohort)\n",
    "        if not os.path.isdir(outputPath):\n",
    "            os.makedirs(outputPath)\n",
    "        outputFile = os.path.join(outputPath,sld['name']+'.macro.thumb.256.jpeg')\n",
    "\n",
    "        if not os.path.isfile(outputFile):\n",
    "            curImageMacroUrl = '/item/%s/tiles/thumbnail?width=%s' % (sld['_id'],imgWidth)\n",
    "            curImage = dsaGC.get(curImageMacroUrl,  jsonResp=False)        \n",
    "            with open(outputFile,\"wb\") as fp:\n",
    "                fp.write(curImage.content)\n",
    "            slidesDownloaded +=1\n",
    "        \n",
    "        LinePrinter(\"You have processed %d files and just downloaded %d\" % (slidesProcessed,slidesDownloaded))\n",
    "        \n"
   ]
  },
  {
   "cell_type": "code",
   "execution_count": 72,
   "metadata": {},
   "outputs": [
    {
     "data": {
      "image/jpeg": "[encoded data removed]",
      "text/plain": [
       "<IPython.core.display.Image object>"
      ]
     },
     "execution_count": 72,
     "metadata": {},
     "output_type": "execute_result"
    }
   ],
   "source": [
    "w"
   ]
  },
  {
   "cell_type": "code",
   "execution_count": 102,
   "metadata": {
    "collapsed": true
   },
   "outputs": [],
   "source": [
    "## Copy Data to Training/Testing/Validation Directory\n",
    "import shutil\n",
    "import random\n",
    "import math\n",
    "import glob\n",
    "## Dare I use a HARD LINK??\n",
    "\n",
    "def copyDataCohort( imgList, baseTargetDir, trainProportion=0.75,validationProportion=0.05,testingProportion=0.2,emptyTargetDir = True):\n",
    "    \n",
    "    \n",
    "    random.shuffle(imgList)\n",
    "    \n",
    "    train = []\n",
    "    test = []\n",
    "    validate = []\n",
    "    for i in imgList:\n",
    "        rnd = random.random()\n",
    "        \n",
    "        if rnd < trainProportion:\n",
    "            train.append(i)\n",
    "        elif (rnd >= trainProportion  and rnd < (trainProportion + validationProportion) ):\n",
    "            validate.append(i)\n",
    "        else:\n",
    "            test.append(i)\n",
    "    \n",
    "    ## Now copy the training/testing and validation data\n",
    "    for i in train:\n",
    "        td = os.path.join(baseTargetDir,'train')\n",
    "        if not os.path.isdir(td):\n",
    "            os.makedirs(td)\n",
    "        shutil.copy2(i,td)\n",
    "    \n",
    "    \n",
    "    \n",
    "    ## Now copy the images print len(test),len(train),len(validate)"
   ]
  },
  {
   "cell_type": "code",
   "execution_count": null,
   "metadata": {
    "collapsed": true
   },
   "outputs": [],
   "source": []
  },
  {
   "cell_type": "code",
   "execution_count": 103,
   "metadata": {
    "collapsed": true
   },
   "outputs": [],
   "source": [
    "blcaImgSet = glob.glob(macroImageRootPath+'blca/*.jpeg')\n",
    "\n",
    "tgtDir = '/home/dagutman/Documents/tcga_imgs/dataSetsForDL/'\n",
    "\n",
    "copyDataCohort(blcaImgSet,tgtDir+'blca')"
   ]
  }
 ],
 "metadata": {
  "kernelspec": {
   "display_name": "Python 2",
   "language": "python",
   "name": "python2"
  },
  "language_info": {
   "codemirror_mode": {
    "name": "ipython",
    "version": 2
   },
   "file_extension": ".py",
   "mimetype": "text/x-python",
   "name": "python",
   "nbconvert_exporter": "python",
   "pygments_lexer": "ipython2",
   "version": "2.7.13"
  }
 },
 "nbformat": 4,
 "nbformat_minor": 2
}
