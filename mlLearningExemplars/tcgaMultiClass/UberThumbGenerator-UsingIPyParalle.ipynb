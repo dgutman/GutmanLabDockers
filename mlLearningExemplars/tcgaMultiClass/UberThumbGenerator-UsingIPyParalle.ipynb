{
 "cells": [
  {
   "cell_type": "code",
   "execution_count": 1,
   "metadata": {},
   "outputs": [],
   "source": [
    "import os,sys,pymongo\n",
    "import DSAHelperFunctions as dsa\n",
    "from pprint import pprint\n",
    "\n",
    "from openslide import OpenSlide\n",
    "from bson.objectid import ObjectId\n",
    "from flask import Response\n",
    "from PIL import Image\n",
    "import os, gridfs, cStringIO\n",
    "from random import shuffle\n",
    "\n",
    "db = pymongo.MongoClient('localhost',27017)['masterSlideList']\n",
    "UberDBcon = db['RawSlideData']\n",
    "gfs = gridfs.GridFS(db)"
   ]
  },
  {
   "cell_type": "code",
   "execution_count": 2,
   "metadata": {},
   "outputs": [
    {
     "name": "stderr",
     "output_type": "stream",
     "text": [
      "/home/dgutman/anaconda/envs/dsa_girder/lib/python2.7/site-packages/IPython/parallel.py:13: ShimWarning: The `IPython.parallel` package has been deprecated. You should import from ipyparallel instead.\n",
      "  \"You should import from ipyparallel instead.\", ShimWarning)\n"
     ]
    }
   ],
   "source": [
    "from IPython.parallel import Client\n",
    "rc = Client()\n",
    "dview = rc[:]\n",
    "dview.block=False"
   ]
  },
  {
   "cell_type": "code",
   "execution_count": 3,
   "metadata": {
    "collapsed": true
   },
   "outputs": [],
   "source": [
    "Config = {}\n",
    "Config[\"db_name\"] = \"masterSlideList\"\n",
    "Config[\"db_collection\"] = \"RawSlideData\"\n",
    "Config[\"thumbSize\"] = \"small\"\n",
    "Config[\"thumb_small_height\"] = 128"
   ]
  },
  {
   "cell_type": "code",
   "execution_count": 4,
   "metadata": {},
   "outputs": [],
   "source": [
    "%px import gridfs, os,pymongo\n",
    "%px import cStringIO\n",
    "%px db = pymongo.MongoClient('localhost',27017)['masterSlideList']\n",
    "%px UberDBcon = db['RawSlideData']\n",
    "%px gfs = gridfs.GridFS(db)\n",
    "\n",
    "%px config = {}\n",
    "%px config[\"db_name\"] = \"masterSlideList\"\n",
    "%px config[\"db_collection\"] = \"RawSlideData\"\n",
    "%px config[\"thumbSize\"] = \"small\"\n",
    "%px config[\"thumb_small_height\"] = 128\n",
    "%px from openslide import OpenSlideError\n",
    "%px from openslide import OpenSlide\n",
    "# %px from . import curConfig"
   ]
  },
  {
   "cell_type": "code",
   "execution_count": 5,
   "metadata": {},
   "outputs": [],
   "source": [
    "AllImageList = list(UberDBcon.find())"
   ]
  },
  {
   "cell_type": "code",
   "execution_count": 6,
   "metadata": {},
   "outputs": [
    {
     "name": "stdout",
     "output_type": "stream",
     "text": [
      "\u001b[KMade 21454 thumbs and already had 18602 thumbs out puf 40056 files40056 21454 18602\n"
     ]
    }
   ],
   "source": [
    "from DSAHelperFunctions import LinePrinter       \n",
    "\n",
    "filesProc = needsThumb = hasThumb = 0\n",
    "needsThumb_ImageList = []\n",
    "\n",
    "for image in AllImageList:\n",
    "    thumbSize = 'small'\n",
    "    thumbPix = 128\n",
    "    filesProc +=1\n",
    "    sp = image['path']\n",
    "    ## I am only going to set the width... not the height\n",
    "    filename = os.path.splitext(os.path.basename(sp))[0] + \".\" + str(thumbSize) + \".jpg\"\n",
    "    if not gfs.exists(filename=filename):\n",
    "        #print filename\n",
    "        needsThumb +=1\n",
    "        needsThumb_ImageList.append(image)\n",
    "    else:\n",
    "        hasThumb +=1\n",
    "    genStatus = \"Made %d thumbs and already had %d thumbs out puf %d files\" % (needsThumb,hasThumb,filesProc)\n",
    "    LinePrinter(genStatus)\n",
    "        \n",
    "print filesProc,needsThumb, hasThumb"
   ]
  },
  {
   "cell_type": "code",
   "execution_count": 7,
   "metadata": {},
   "outputs": [],
   "source": [
    "# db_name: UberSliderSorter\n",
    "# db_collection: RawSlideData\n",
    "config = {}\n",
    "config[\"db_name\"] = \"masterSlideList\"\n",
    "config[\"db_collection\"] = \"RawSlideData\"\n",
    "config[\"thumbSize\"] = \"small\"\n",
    "config[\"thumb_small_height\"] = 128\n",
    "\n",
    "\n",
    "@dview.parallel(block=False)\n",
    "def CheckForThumbnail_V2(curSlideInfo):\n",
    "    \"\"\" I am passing the entire data object from the RawSlideData collection\n",
    "    which lists the path, and other file properties I want to process\"\"\"\n",
    "    thumbSize = 128\n",
    "    thumbSize = 'small'\n",
    "\n",
    "    ##Keeping this consistent with Mohammed's Implementation in the API\n",
    "    image = curSlideInfo\n",
    "    print image\n",
    "    path = image[\"path\"]\n",
    "    filename = os.path.splitext(os.path.basename(path))[0] + \".\" + str(thumbSize) + \".jpg\"\n",
    "\n",
    "    ### Need to make sure that we always use level0???\n",
    "    if not gfs.exists(filename=filename):\n",
    "        width = int(image[\"scanProperties\"][\"openslide_level[0]_width\"])\n",
    "        height = int(image[\"scanProperties\"][\"openslide_level[0]_height\"])\n",
    "        thumbHeight = float(config[\"thumb_small_height\"])  \n",
    "        thumbWidth = int(round(thumbHeight/float(height) * int(width)))\n",
    "        infoString = \"%d %d %d %d \" % ( width,height,thumbHeight,thumbWidth )\n",
    "        try:\n",
    "            osr = OpenSlide(path)\n",
    "            thumb = osr.get_thumbnail((thumbWidth,thumbHeight))\n",
    "        except OpenSlideError, e:\n",
    "            resp = {\"status\": 404, \"message\": \"OpenSlideError: Thumbnail failed to load\"}\n",
    "            badImageBuf = open('/home/dgutman/devel/dsa_girdertools/error.128.jpg', contentType=\"image/jpeg\", filename=filename, thumbCreated=False,errorThumb=True)\n",
    "            return resp\n",
    "        except ValueError:\n",
    "            resp = {\"status\": 404, \"message\": \"Thumbnail failed to load got ValueError\"}\n",
    "            badImageBuf = open('/home/dgutman/devel/dsa_girdertools/error.128.jpg', contentType=\"image/jpeg\", filename=filename, thumbCreated=False,errorThumb=True)\n",
    "            return resp\n",
    "        except:\n",
    "            resp = {\"status\": 404, \"message\": \"Thumbnail failed to load- Not sure Why  %s\" % (infoString)}\n",
    "            badImageBuf = open('/home/dgutman/devel/dsa_girdertools/error.128.jpg', contentType=\"image/jpeg\", filename=filename, thumbCreated=False,errorThumb=True)\n",
    "            return resp\n",
    "        buf = cStringIO.StringIO()\n",
    "        thumb.save(buf, 'jpeg', quality=90)\n",
    "        gfs.put(buf.getvalue(), contentType=\"image/jpeg\", filename=filename, thumbCreated=True)\n",
    "        return {\"status\": 200, \"message\": \"Image Generated\"}\n",
    "    else:\n",
    " \n",
    "        return {\"status\": 200, \"message\": \"Image PreCached\"}\n",
    "\n",
    "\n",
    "# dgutman@digitalslidearchive:~/devel/dsa_girdertools$ convert error.png.1 error.128.jpg\n",
    "# dgutman@digitalslidearchive:~/devel/dsa_girdertools$ file error.128.jpg\n",
    "# error.128.jpg: JPEG image data, JFIF standard 1.01\n",
    "# dgutman@digitalslidearchive:~/devel/dsa_girdertools$ pwd\n",
    "# /home/dgutman/devel/dsa_girdertools"
   ]
  },
  {
   "cell_type": "code",
   "execution_count": 8,
   "metadata": {},
   "outputs": [
    {
     "name": "stdout",
     "output_type": "stream",
     "text": [
      "21454\n"
     ]
    }
   ],
   "source": [
    "print len(needsThumb_ImageList)\n",
    "shuffle(needsThumb_ImageList)###shuffle things to avoid hitting the same file system each time\n",
    "\n",
    "ar = CheckForThumbnail_V2.map(needsThumb_ImageList)"
   ]
  },
  {
   "cell_type": "code",
   "execution_count": 10,
   "metadata": {},
   "outputs": [
    {
     "name": "stdout",
     "output_type": "stream",
     "text": [
      "208.911962\n",
      "False\n"
     ]
    }
   ],
   "source": [
    "print ar.elapsed\n",
    "print ar.done()"
   ]
  }
 ],
 "metadata": {
  "kernelspec": {
   "display_name": "Python 3",
   "language": "python",
   "name": "python3"
  },
  "language_info": {
   "codemirror_mode": {
    "name": "ipython",
    "version": 3
   },
   "file_extension": ".py",
   "mimetype": "text/x-python",
   "name": "python",
   "nbconvert_exporter": "python",
   "pygments_lexer": "ipython3",
   "version": "3.6.8"
  }
 },
 "nbformat": 4,
 "nbformat_minor": 1
}
