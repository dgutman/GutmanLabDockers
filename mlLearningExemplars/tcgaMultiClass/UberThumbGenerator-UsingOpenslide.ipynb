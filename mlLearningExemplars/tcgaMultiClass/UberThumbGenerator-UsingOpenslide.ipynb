{
 "cells": [
  {
   "cell_type": "code",
   "execution_count": 1,
   "metadata": {
    "collapsed": true
   },
   "outputs": [],
   "source": [
    "import os,sys,pymongo\n",
    "import DSAHelperFunctions as dsa\n",
    "from pprint import pprint\n",
    "from DSAHelperFunctions import LinePrinter\n",
    "\n",
    "\n",
    "from openslide import OpenSlide\n",
    "from flask_restful import Resource\n",
    "from bson.objectid import ObjectId\n",
    "from flask import Response\n",
    "from PIL import Image\n",
    "import os, gridfs, cStringIO\n",
    "\n",
    "db = pymongo.MongoClient('localhost',27017)['UberSliderSorter']"
   ]
  },
  {
   "cell_type": "code",
   "execution_count": 2,
   "metadata": {},
   "outputs": [],
   "source": [
    "UberDBcon = db['RawSlideData']"
   ]
  },
  {
   "cell_type": "code",
   "execution_count": 3,
   "metadata": {},
   "outputs": [],
   "source": [
    "AllSlideList = list(UberDBcon.find({},{'slideSet':True, 'slidePath': True, 'fileName': True}))"
   ]
  },
  {
   "cell_type": "code",
   "execution_count": 4,
   "metadata": {},
   "outputs": [
    {
     "name": "stdout",
     "output_type": "stream",
     "text": [
      "106494\n"
     ]
    }
   ],
   "source": [
    "print len(AllSlideList)"
   ]
  },
  {
   "cell_type": "code",
   "execution_count": null,
   "metadata": {},
   "outputs": [],
   "source": []
  },
  {
   "cell_type": "code",
   "execution_count": null,
   "metadata": {},
   "outputs": [
    {
     "name": "stdout",
     "output_type": "stream",
     "text": [
      "\u001b[KMade 3 thumbs and already had 0 thumbsSome other error?\n",
      "\u001b[KMade 49 thumbs and already had 0 thumbsSome other error?\n",
      "\u001b[KMade 71 thumbs and already had 0 thumbsSome other error?\n",
      "\u001b[KMade 140 thumbs and already had 0 thumbsSome other error?\n",
      "\u001b[KMade 152 thumbs and already had 1 thumbsSome other error?\n",
      "\u001b[KMade 204 thumbs and already had 1 thumbsSome other error?\n",
      "\u001b[KMade 229 thumbs and already had 1 thumbsSome other error?\n",
      "\u001b[KMade 232 thumbs and already had 1 thumbsSome other error?\n",
      "\u001b[KMade 234 thumbs and already had 1 thumbsSome other error?\n",
      "\u001b[KMade 253 thumbs and already had 1 thumbsSome other error?\n",
      "\u001b[KMade 254 thumbs and already had 1 thumbsSome other error?\n",
      "\u001b[KMade 264 thumbs and already had 1 thumbsSome other error?\n",
      "\u001b[KMade 294 thumbs and already had 1 thumbsSome other error?\n",
      "\u001b[KMade 333 thumbs and already had 1 thumbsSome other error?\n",
      "\u001b[KMade 344 thumbs and already had 1 thumbsSome other error?\n",
      "\u001b[KMade 344 thumbs and already had 1 thumbsSome other error?\n",
      "\u001b[KMade 369 thumbs and already had 1 thumbsSome other error?\n",
      "\u001b[KMade 416 thumbs and already had 1 thumbsSome other error?\n",
      "\u001b[KMade 441 thumbs and already had 1 thumbsSome other error?\n",
      "\u001b[KMade 455 thumbs and already had 1 thumbsSome other error?\n",
      "\u001b[KMade 469 thumbs and already had 1 thumbsSome other error?\n",
      "\u001b[KMade 918 thumbs and already had 172 thumbsSome other error?\n",
      "\u001b[KMade 947 thumbs and already had 172 thumbs"
     ]
    }
   ],
   "source": [
    "gfs = gridfs.GridFS(db)\n",
    "### FIRST GET A LIST OF ALL THE THUMBNAILS WE HAVE\n",
    "\n",
    "thumbsCached = thumbsGenerated = 0\n",
    "for curSlide in AllSlideList:\n",
    "    path = curSlide[\"slidePath\"]\n",
    "\n",
    "    \n",
    "    thumbSize = 'medium'\n",
    "    thumbPix = 256\n",
    "    ## I am only going to set the width... not the height\n",
    "    \n",
    "    filename = os.path.splitext(os.path.basename(path))[0] + \".\" + thumbSize + \".jpg\"\n",
    "    if not gfs.exists(filename=filename):\n",
    "        try:\n",
    "            osr = OpenSlide(path)\n",
    "            thumb = osr.get_thumbnail( (Image.ANTIALIAS,thumbPix))\n",
    "            buf = cStringIO.StringIO()\n",
    "            thumb.save(buf, 'jpeg', quality=90)\n",
    "            gfs.put(buf.getvalue(), contentType=\"image/jpeg\", filename=filename)\n",
    "            thumbsGenerated +=1\n",
    "        except ValueError:\n",
    "            print \"May want to store a null image??? or osmething\"\n",
    "            pass\n",
    "        except:\n",
    "            print \"Some other error?\"\n",
    "    else:\n",
    "        thumbsCached +=1\n",
    "        \n",
    "    genStatus = \"Made %d thumbs and already had %d thumbs\" % (thumbsGenerated,thumbsCached )\n",
    "    LinePrinter(genStatus)\n",
    "\n",
    "\n"
   ]
  }
 ],
 "metadata": {
  "kernelspec": {
   "display_name": "Python 3",
   "language": "python",
   "name": "python3"
  },
  "language_info": {
   "codemirror_mode": {
    "name": "ipython",
    "version": 3
   },
   "file_extension": ".py",
   "mimetype": "text/x-python",
   "name": "python",
   "nbconvert_exporter": "python",
   "pygments_lexer": "ipython3",
   "version": "3.6.8"
  }
 },
 "nbformat": 4,
 "nbformat_minor": 1
}
